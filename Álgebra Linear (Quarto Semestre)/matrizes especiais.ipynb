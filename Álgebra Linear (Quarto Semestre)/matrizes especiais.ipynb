{
 "cells": [
  {
   "cell_type": "markdown",
   "id": "ad948994-fd5a-4f08-b2cf-049042b7c5fa",
   "metadata": {},
   "source": [
    "# Assuntos:\n",
    "* Matriz transposta\n",
    "* Matriz inversa\n",
    "* Matriz identidade"
   ]
  },
  {
   "cell_type": "markdown",
   "id": "c748dc73-63d7-4d88-8c1b-fea6eb71b696",
   "metadata": {},
   "source": [
    "## Matriz transposta: \n",
    "* É uma matriz que troca as linhas pelas colunas de uma matriz. Se uma matriz **A** tem dimensão 3x2, ápos ser tranposta $A^t$ será 2x3.\n",
    "* Uma matriz transposta da transposta $(A^t)^t$, volta a ser a matriz original.\n",
    "* A transposta da soma de duas matrizes é igual à soma das transpostas de cada matriz: $(A+B)^t = A^t + B^t$.\n",
    "  \n",
    "Exemplo de matriz transposta abaixo:"
   ]
  },
  {
   "cell_type": "code",
   "execution_count": 5,
   "id": "ab418355-1aa2-476b-8047-4e3aafe4c7fc",
   "metadata": {},
   "outputs": [],
   "source": [
    "import numpy as np\n",
    "\n",
    "matriz = np.array ([[1,1,-3], [2,1,3], [2,0,-1]])"
   ]
  },
  {
   "cell_type": "code",
   "execution_count": 6,
   "id": "3f771ebe-f7ac-4659-9bda-f3a2b2043210",
   "metadata": {},
   "outputs": [
    {
     "data": {
      "text/plain": [
       "array([[ 1,  1, -3],\n",
       "       [ 2,  1,  3],\n",
       "       [ 2,  0, -1]])"
      ]
     },
     "execution_count": 6,
     "metadata": {},
     "output_type": "execute_result"
    }
   ],
   "source": [
    "matriz"
   ]
  },
  {
   "cell_type": "code",
   "execution_count": 7,
   "id": "56437e74-5b4a-46b5-98cd-bd55bda7eb1a",
   "metadata": {},
   "outputs": [
    {
     "data": {
      "text/plain": [
       "array([[ 1,  2,  2],\n",
       "       [ 1,  1,  0],\n",
       "       [-3,  3, -1]])"
      ]
     },
     "execution_count": 7,
     "metadata": {},
     "output_type": "execute_result"
    }
   ],
   "source": [
    "matriz.transpose() #jeito 1"
   ]
  },
  {
   "cell_type": "code",
   "execution_count": 9,
   "id": "4cf62496-5a3d-4b14-a705-5afa457356df",
   "metadata": {},
   "outputs": [
    {
     "data": {
      "text/plain": [
       "array([[ 1,  2,  2],\n",
       "       [ 1,  1,  0],\n",
       "       [-3,  3, -1]])"
      ]
     },
     "execution_count": 9,
     "metadata": {},
     "output_type": "execute_result"
    }
   ],
   "source": [
    "matriz.T #jeito 2 (mais pratico)"
   ]
  },
  {
   "cell_type": "markdown",
   "id": "bda3fe6f-0f56-4b38-a240-fca5cf03f2d8",
   "metadata": {},
   "source": [
    "## Matriz inversa\n",
    "* É uma matriz que **é obtida a partir de uma matriz quadrada** A, tal que o produto entre A e sua inversa resulta na matriz identidade.\n",
    "* A inversa é denotada por $A^{-1}$\n",
    "* Para calcular é necessário que o determinante de A seja diferente de zero\n",
    "* A inversa da inversa de uma matriz é igual a matriz original, $(A^{-1})^{-1}$\n",
    "* Determinante tem que ser diferente de zero, $det(A)\\neq 0$\n",
    "\n",
    "Exemplo de matriz inversa abaixo:\n"
   ]
  },
  {
   "cell_type": "code",
   "execution_count": 10,
   "id": "beab623d-64dc-40f5-9436-827199b3b7f6",
   "metadata": {},
   "outputs": [
    {
     "data": {
      "text/plain": [
       "array([[ 1,  1, -3],\n",
       "       [ 2,  1,  3],\n",
       "       [ 2,  0, -1]])"
      ]
     },
     "execution_count": 10,
     "metadata": {},
     "output_type": "execute_result"
    }
   ],
   "source": [
    "A = matriz\n",
    "A"
   ]
  },
  {
   "cell_type": "code",
   "execution_count": 11,
   "id": "91da46ed-c937-4b93-8687-8c2263da5c70",
   "metadata": {},
   "outputs": [
    {
     "data": {
      "text/plain": [
       "13.0"
      ]
     },
     "execution_count": 11,
     "metadata": {},
     "output_type": "execute_result"
    }
   ],
   "source": [
    "#Para matriz A ter matriz inversa:\n",
    "#matriz original tem que ser quadrada: 3x3\n",
    "#determinante da original, tem que ser diferente de zero\n",
    "\n",
    "np.linalg.det(A) #det(A) é 13, ou seja tem inversa (diferente de 0)"
   ]
  },
  {
   "cell_type": "code",
   "execution_count": 12,
   "id": "1d9fbdc4-fff4-431c-8ed0-c2bd6a5626fe",
   "metadata": {},
   "outputs": [
    {
     "data": {
      "text/plain": [
       "array([[-0.07692308,  0.07692308,  0.46153846],\n",
       "       [ 0.61538462,  0.38461538, -0.69230769],\n",
       "       [-0.15384615,  0.15384615, -0.07692308]])"
      ]
     },
     "execution_count": 12,
     "metadata": {},
     "output_type": "execute_result"
    }
   ],
   "source": [
    "#calculando ainversa da matriz A\n",
    "\n",
    "np.linalg.inv(A)"
   ]
  },
  {
   "cell_type": "code",
   "execution_count": 14,
   "id": "8444d789-7223-4669-8eae-c79e76c15b5f",
   "metadata": {},
   "outputs": [
    {
     "data": {
      "text/plain": [
       "array([[ 1.00000000e+00, -5.55111512e-17,  5.55111512e-17],\n",
       "       [ 0.00000000e+00,  1.00000000e+00,  5.55111512e-17],\n",
       "       [ 0.00000000e+00,  0.00000000e+00,  1.00000000e+00]])"
      ]
     },
     "execution_count": 14,
     "metadata": {},
     "output_type": "execute_result"
    }
   ],
   "source": [
    "A_inv = np.linalg.inv(A) #matriz inversa\n",
    "np.dot (A, A_inv) #resulta a matriz identidade"
   ]
  },
  {
   "cell_type": "markdown",
   "id": "6d608aa5-06db-479f-a972-b2121748d15b",
   "metadata": {},
   "source": [
    "## Matriz identidade\n",
    "* É uma matriz quadrada em que os elementos na **diagonal principal são iguais a 1** e os demais elementos iguais a 0.\n",
    "* A representação é I<sub>n</sub>\n",
    "* O produto entre uma matriz quadrada A e sua matriz identidade correspondente é igual à própria matriz A:\n",
    "  \n",
    "  **A . I <sub>n</sub> = I<sub>n</sub> . A = A**\n",
    "* O produto entre uma matriz quadrada A e sua matriz inversa correspondente é igual à matriz identidade:\n",
    "\n",
    "  **A . $A^{-1}$ = $A^{-1}$ . A = I<sub>n</sub>**\r\n"
   ]
  },
  {
   "cell_type": "code",
   "execution_count": null,
   "id": "f2b448d9-c2fc-420d-89ff-6c9ddb99faa6",
   "metadata": {},
   "outputs": [],
   "source": []
  }
 ],
 "metadata": {
  "kernelspec": {
   "display_name": "Python 3 (ipykernel)",
   "language": "python",
   "name": "python3"
  },
  "language_info": {
   "codemirror_mode": {
    "name": "ipython",
    "version": 3
   },
   "file_extension": ".py",
   "mimetype": "text/x-python",
   "name": "python",
   "nbconvert_exporter": "python",
   "pygments_lexer": "ipython3",
   "version": "3.12.4"
  }
 },
 "nbformat": 4,
 "nbformat_minor": 5
}
