{
 "cells": [
  {
   "cell_type": "code",
   "execution_count": 1,
   "id": "5d9d07a8-7f0f-49b9-a760-b961a82fdda7",
   "metadata": {},
   "outputs": [],
   "source": [
    "import numpy as np"
   ]
  },
  {
   "cell_type": "code",
   "execution_count": 6,
   "id": "3982cee8-3d41-481d-96f8-fab16faa403e",
   "metadata": {},
   "outputs": [
    {
     "data": {
      "text/plain": [
       "array([[ 2,  5,  5],\n",
       "       [-1, -1,  0],\n",
       "       [ 2,  4,  3]])"
      ]
     },
     "execution_count": 6,
     "metadata": {},
     "output_type": "execute_result"
    }
   ],
   "source": [
    "#1 A\n",
    "A = np.array ([[2,5,5], [-1,-1,0], [2,4,3]])\n",
    "A"
   ]
  },
  {
   "cell_type": "code",
   "execution_count": 4,
   "id": "e81de258-16a1-4d98-bc9c-a70a9cf1e89f",
   "metadata": {},
   "outputs": [
    {
     "data": {
      "text/plain": [
       "-1.0000000000000002"
      ]
     },
     "execution_count": 4,
     "metadata": {},
     "output_type": "execute_result"
    }
   ],
   "source": [
    "np.linalg.det(A) #det(A) é -1, ou seja tem inversa (diferente de 0)"
   ]
  },
  {
   "cell_type": "code",
   "execution_count": 5,
   "id": "9602109a-b343-4261-9d34-4819790866cc",
   "metadata": {},
   "outputs": [
    {
     "data": {
      "text/plain": [
       "array([[ 3., -5., -5.],\n",
       "       [-3.,  4.,  5.],\n",
       "       [ 2., -2., -3.]])"
      ]
     },
     "execution_count": 5,
     "metadata": {},
     "output_type": "execute_result"
    }
   ],
   "source": [
    "#calculando a inversa da matriz A\n",
    "\n",
    "np.linalg.inv(A)"
   ]
  },
  {
   "cell_type": "code",
   "execution_count": 7,
   "id": "1980b42d-a009-4731-ba05-46d7f43fec83",
   "metadata": {},
   "outputs": [
    {
     "data": {
      "text/plain": [
       "array([[ 1, -1,  0,  3],\n",
       "       [ 2,  5,  2,  6],\n",
       "       [ 0,  1,  0,  0],\n",
       "       [ 1,  4,  2,  1]])"
      ]
     },
     "execution_count": 7,
     "metadata": {},
     "output_type": "execute_result"
    }
   ],
   "source": [
    "# 1 B\n",
    "C = np.array ([[1,-1,0,3], [2,5,2,6], [0,1,0,0], [1,4,2,1]])\n",
    "C"
   ]
  },
  {
   "cell_type": "code",
   "execution_count": 9,
   "id": "90a20dba-2a03-481a-a64c-765d6dbdbd65",
   "metadata": {},
   "outputs": [
    {
     "data": {
      "text/plain": [
       "4.000000000000001"
      ]
     },
     "execution_count": 9,
     "metadata": {},
     "output_type": "execute_result"
    }
   ],
   "source": [
    "np.linalg.det(C) #det(C) é 4, ou seja tem inversa (diferente de 0)"
   ]
  },
  {
   "cell_type": "code",
   "execution_count": 10,
   "id": "8273272a-98dd-4970-96b7-d75e17603ec6",
   "metadata": {},
   "outputs": [
    {
     "data": {
      "text/plain": [
       "array([[ 2.5, -1.5,  4. ,  1.5],\n",
       "       [-0. , -0. ,  1. , -0. ],\n",
       "       [-1. ,  0.5, -3.5,  0. ],\n",
       "       [-0.5,  0.5, -1. , -0.5]])"
      ]
     },
     "execution_count": 10,
     "metadata": {},
     "output_type": "execute_result"
    }
   ],
   "source": [
    "#calculando a inversa da matriz C\n",
    "\n",
    "np.linalg.inv(C)"
   ]
  },
  {
   "cell_type": "code",
   "execution_count": 11,
   "id": "c91f0af0-ce57-40da-8455-b4c697b40f3f",
   "metadata": {},
   "outputs": [
    {
     "data": {
      "text/plain": [
       "array([[ 1,  4,  5],\n",
       "       [ 2, -1,  2],\n",
       "       [ 3,  0,  3]])"
      ]
     },
     "execution_count": 11,
     "metadata": {},
     "output_type": "execute_result"
    }
   ],
   "source": [
    "#2 A\n",
    "a = np.array ([[1,4,5], [2,-1,2], [3,0,3]])\n",
    "a"
   ]
  },
  {
   "cell_type": "code",
   "execution_count": 14,
   "id": "e33f841b-41dc-436b-bf51-f243cc0a2f9a",
   "metadata": {},
   "outputs": [
    {
     "data": {
      "text/plain": [
       "12.0"
      ]
     },
     "execution_count": 14,
     "metadata": {},
     "output_type": "execute_result"
    }
   ],
   "source": [
    "np.linalg.det(a) #determinante de a"
   ]
  },
  {
   "cell_type": "code",
   "execution_count": 13,
   "id": "4c13ae92-896b-486f-a9c4-8b757a0a5257",
   "metadata": {},
   "outputs": [
    {
     "data": {
      "text/plain": [
       "array([[ 6, -2,  5],\n",
       "       [ 2,  1,  2],\n",
       "       [ 3, -2,  3]])"
      ]
     },
     "execution_count": 13,
     "metadata": {},
     "output_type": "execute_result"
    }
   ],
   "source": [
    "#2 B\n",
    "b= np.array ([[6,-2,5], [2,1,2], [3,-2,3]])\n",
    "b"
   ]
  },
  {
   "cell_type": "code",
   "execution_count": 15,
   "id": "ee9dacf6-8efb-4b2a-b499-692b6d535118",
   "metadata": {},
   "outputs": [
    {
     "data": {
      "text/plain": [
       "6.999999999999999"
      ]
     },
     "execution_count": 15,
     "metadata": {},
     "output_type": "execute_result"
    }
   ],
   "source": [
    "np.linalg.det(b) #determinante de b"
   ]
  },
  {
   "cell_type": "code",
   "execution_count": null,
   "id": "1ce65c0c-ddf9-4f6b-8b96-5948edaafbc1",
   "metadata": {},
   "outputs": [],
   "source": []
  }
 ],
 "metadata": {
  "kernelspec": {
   "display_name": "Python 3 (ipykernel)",
   "language": "python",
   "name": "python3"
  },
  "language_info": {
   "codemirror_mode": {
    "name": "ipython",
    "version": 3
   },
   "file_extension": ".py",
   "mimetype": "text/x-python",
   "name": "python",
   "nbconvert_exporter": "python",
   "pygments_lexer": "ipython3",
   "version": "3.12.4"
  }
 },
 "nbformat": 4,
 "nbformat_minor": 5
}
