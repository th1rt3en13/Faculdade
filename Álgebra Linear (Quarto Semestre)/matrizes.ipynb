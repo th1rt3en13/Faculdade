{
 "cells": [
  {
   "cell_type": "code",
   "execution_count": 2,
   "id": "bb270cca-4297-4f56-87af-ca957bbbc5ea",
   "metadata": {},
   "outputs": [],
   "source": [
    "matriz_A = [[1,2,3],[4,5,6]]"
   ]
  },
  {
   "cell_type": "code",
   "execution_count": 3,
   "id": "f0fb6829-406c-4c0e-af8c-0248f9caa3d2",
   "metadata": {},
   "outputs": [
    {
     "data": {
      "text/plain": [
       "[[1, 2, 3], [4, 5, 6]]"
      ]
     },
     "execution_count": 3,
     "metadata": {},
     "output_type": "execute_result"
    }
   ],
   "source": [
    "matriz_A"
   ]
  },
  {
   "cell_type": "code",
   "execution_count": 5,
   "id": "5b3e1276-6f03-447c-b208-2b40ddc510cb",
   "metadata": {},
   "outputs": [
    {
     "data": {
      "text/plain": [
       "[1, 2, 3]"
      ]
     },
     "execution_count": 5,
     "metadata": {},
     "output_type": "execute_result"
    }
   ],
   "source": [
    "matriz_A[0] #acessando a primeira linha ---> no python o indice começa no zero"
   ]
  },
  {
   "cell_type": "code",
   "execution_count": 6,
   "id": "f0abc648-b3c6-463c-aa68-411f61a187f3",
   "metadata": {},
   "outputs": [
    {
     "data": {
      "text/plain": [
       "[4, 5, 6]"
      ]
     },
     "execution_count": 6,
     "metadata": {},
     "output_type": "execute_result"
    }
   ],
   "source": [
    "matriz_A[1] #acessando a segunda linha"
   ]
  },
  {
   "cell_type": "code",
   "execution_count": 7,
   "id": "ae4d6596-7d94-405b-a71d-49822f0591ab",
   "metadata": {},
   "outputs": [
    {
     "data": {
      "text/plain": [
       "2"
      ]
     },
     "execution_count": 7,
     "metadata": {},
     "output_type": "execute_result"
    }
   ],
   "source": [
    "matriz_A [0][1] #elemento da primeira linha segunda coluna"
   ]
  },
  {
   "cell_type": "markdown",
   "id": "fb2480c3-999d-48c7-9e9e-7eeb5a130565",
   "metadata": {},
   "source": [
    "# NumPy Array: \n",
    "* É um pacote para computação científica que fornece ampla gama de funções e métodos para trabalhar com matrizes multidimensionais.\n",
    "\n"
   ]
  },
  {
   "cell_type": "code",
   "execution_count": 9,
   "id": "90e615a2-8aaa-4d20-a0c7-92df0455028d",
   "metadata": {},
   "outputs": [],
   "source": [
    "import numpy as np"
   ]
  },
  {
   "cell_type": "markdown",
   "id": "6fb4bb34-a601-44e3-8c8f-19a5a6aa25af",
   "metadata": {},
   "source": [
    "* Dentro do numpy, temos o método 'array', onde passamos uma lista bi-dimensional (listas de listas) e ele nos gera a matriz. O exemplo abaixo mostra que criamos uma matriz 3x3."
   ]
  },
  {
   "cell_type": "code",
   "execution_count": 11,
   "id": "354dbb83-d8fb-4b09-a8fb-9fb15a76b13a",
   "metadata": {},
   "outputs": [
    {
     "name": "stdout",
     "output_type": "stream",
     "text": [
      "[[1 2 3]\n",
      " [4 5 6]\n",
      " [7 8 9]]\n"
     ]
    }
   ],
   "source": [
    "matriz_B = np.array ([[1,2,3],[4,5,6], [7,8,9]])\n",
    "\n",
    "print(matriz_B)"
   ]
  },
  {
   "cell_type": "code",
   "execution_count": 12,
   "id": "cb6f04d2-ccb6-4f10-a4e2-c7b3309345fe",
   "metadata": {},
   "outputs": [
    {
     "data": {
      "text/plain": [
       "array([1, 2, 3])"
      ]
     },
     "execution_count": 12,
     "metadata": {},
     "output_type": "execute_result"
    }
   ],
   "source": [
    "matriz_B[0] #acessando a primeira linha"
   ]
  },
  {
   "cell_type": "code",
   "execution_count": 13,
   "id": "f0682906-c5c0-45db-a792-a329c4604aef",
   "metadata": {},
   "outputs": [
    {
     "data": {
      "text/plain": [
       "array([4, 5, 6])"
      ]
     },
     "execution_count": 13,
     "metadata": {},
     "output_type": "execute_result"
    }
   ],
   "source": [
    "matriz_B[1] #acessando a segunda linha"
   ]
  },
  {
   "cell_type": "code",
   "execution_count": 14,
   "id": "d0eab6b0-fbd9-495e-a898-50845e2c1e0a",
   "metadata": {},
   "outputs": [
    {
     "data": {
      "text/plain": [
       "8"
      ]
     },
     "execution_count": 14,
     "metadata": {},
     "output_type": "execute_result"
    }
   ],
   "source": [
    "matriz_B[2][1] #acessar a terceira linha e segunda coluna"
   ]
  },
  {
   "cell_type": "markdown",
   "id": "256011bb-e5e5-4a37-9644-6eeb37f5c6b3",
   "metadata": {},
   "source": [
    "Algumas operações que podemos realizar usando o NumPy\n",
    "* Transposição de matriz: é uma operação que troca as linhas e colunas da matriz. Exemplo abaixo:"
   ]
  },
  {
   "cell_type": "code",
   "execution_count": 15,
   "id": "bcdce0c8-2b4b-4b43-96f9-7581d2d88ebd",
   "metadata": {},
   "outputs": [
    {
     "data": {
      "text/plain": [
       "array([[1, 4, 7],\n",
       "       [2, 5, 8],\n",
       "       [3, 6, 9]])"
      ]
     },
     "execution_count": 15,
     "metadata": {},
     "output_type": "execute_result"
    }
   ],
   "source": [
    "matriz_transposta = matriz_B.transpose()\n",
    "matriz_transposta"
   ]
  },
  {
   "cell_type": "markdown",
   "id": "46902874-7c5d-43a4-92a1-ecb6ac7b508e",
   "metadata": {},
   "source": [
    "* Adição de matrizes: a adição e subtração são realizadas elemento por elemento. Para que ocorra a adição/subtração, elas devem ter a mesma dimensão. Exemplo abaixo:"
   ]
  },
  {
   "cell_type": "code",
   "execution_count": 16,
   "id": "b7795880-e995-4e2a-bfb2-4fcd1f276d4d",
   "metadata": {},
   "outputs": [
    {
     "data": {
      "text/plain": [
       "array([[10, 10, 10],\n",
       "       [10, 10, 10],\n",
       "       [10, 10, 10]])"
      ]
     },
     "execution_count": 16,
     "metadata": {},
     "output_type": "execute_result"
    }
   ],
   "source": [
    "matriz1 = np.array([[1,2,3],[4,5,6], [7,8,9]])\n",
    "matriz2 = np.array([[9,8,7],[6,5,4], [3,2,1]])\n",
    "matriz1+matriz2"
   ]
  },
  {
   "cell_type": "markdown",
   "id": "3292c294-9b91-4588-9ae7-6afef59d945f",
   "metadata": {},
   "source": [
    "* Subtração de matrizes"
   ]
  },
  {
   "cell_type": "code",
   "execution_count": 18,
   "id": "cd1422da-f2da-4b00-8bde-4dbba13d7f05",
   "metadata": {},
   "outputs": [
    {
     "data": {
      "text/plain": [
       "array([[-8, -6, -4],\n",
       "       [-2,  0,  2],\n",
       "       [ 4,  6,  8]])"
      ]
     },
     "execution_count": 18,
     "metadata": {},
     "output_type": "execute_result"
    }
   ],
   "source": [
    "matriz1 = np.array([[1,2,3],[4,5,6], [7,8,9]])\n",
    "matriz2 = np.array([[9,8,7],[6,5,4], [3,2,1]])\n",
    "matriz1-matriz2"
   ]
  },
  {
   "cell_type": "markdown",
   "id": "86107053-7f8d-4dc8-bb9e-0bb4f775efb7",
   "metadata": {},
   "source": [
    "* Multiplicação de matrizes: é definida apenas se o número de colunas A for igual ao número de linhas de B. O resultado é uma matriz C, onde o elemento na linha i e coluna j é o produto escalar da linha i de A e da coluna j de B."
   ]
  },
  {
   "cell_type": "code",
   "execution_count": 19,
   "id": "401b8c06-b61e-4901-8594-9908905fdaf0",
   "metadata": {},
   "outputs": [
    {
     "data": {
      "text/plain": [
       "array([[ 9, 16, 21],\n",
       "       [24, 25, 24],\n",
       "       [21, 16,  9]])"
      ]
     },
     "execution_count": 19,
     "metadata": {},
     "output_type": "execute_result"
    }
   ],
   "source": [
    "matriz1 = np.array([[1,2,3],[4,5,6], [7,8,9]])\n",
    "matriz2 = np.array([[9,8,7],[6,5,4], [3,2,1]])\n",
    "matriz1*matriz2"
   ]
  }
 ],
 "metadata": {
  "kernelspec": {
   "display_name": "Python 3 (ipykernel)",
   "language": "python",
   "name": "python3"
  },
  "language_info": {
   "codemirror_mode": {
    "name": "ipython",
    "version": 3
   },
   "file_extension": ".py",
   "mimetype": "text/x-python",
   "name": "python",
   "nbconvert_exporter": "python",
   "pygments_lexer": "ipython3",
   "version": "3.12.4"
  }
 },
 "nbformat": 4,
 "nbformat_minor": 5
}
